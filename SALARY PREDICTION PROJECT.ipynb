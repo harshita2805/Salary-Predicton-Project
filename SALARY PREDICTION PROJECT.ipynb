{
 "cells": [
  {
   "cell_type": "code",
   "execution_count": 1,
   "id": "f5532935",
   "metadata": {},
   "outputs": [],
   "source": [
    "import numpy as np\n",
    "import pandas as pd\n",
    "import matplotlib.pyplot as plt"
   ]
  },
  {
   "cell_type": "code",
   "execution_count": 2,
   "id": "f9639718",
   "metadata": {},
   "outputs": [],
   "source": [
    "df=pd.read_csv(\"salary.csv\")"
   ]
  },
  {
   "cell_type": "code",
   "execution_count": 3,
   "id": "611f20b1",
   "metadata": {},
   "outputs": [
    {
     "data": {
      "text/html": [
       "<div>\n",
       "<style scoped>\n",
       "    .dataframe tbody tr th:only-of-type {\n",
       "        vertical-align: middle;\n",
       "    }\n",
       "\n",
       "    .dataframe tbody tr th {\n",
       "        vertical-align: top;\n",
       "    }\n",
       "\n",
       "    .dataframe thead th {\n",
       "        text-align: right;\n",
       "    }\n",
       "</style>\n",
       "<table border=\"1\" class=\"dataframe\">\n",
       "  <thead>\n",
       "    <tr style=\"text-align: right;\">\n",
       "      <th></th>\n",
       "      <th>YearsofExperience</th>\n",
       "      <th>Salary</th>\n",
       "    </tr>\n",
       "  </thead>\n",
       "  <tbody>\n",
       "    <tr>\n",
       "      <th>0</th>\n",
       "      <td>1.1</td>\n",
       "      <td>39343</td>\n",
       "    </tr>\n",
       "    <tr>\n",
       "      <th>1</th>\n",
       "      <td>1.3</td>\n",
       "      <td>46205</td>\n",
       "    </tr>\n",
       "    <tr>\n",
       "      <th>2</th>\n",
       "      <td>1.5</td>\n",
       "      <td>37731</td>\n",
       "    </tr>\n",
       "    <tr>\n",
       "      <th>3</th>\n",
       "      <td>2.0</td>\n",
       "      <td>43525</td>\n",
       "    </tr>\n",
       "    <tr>\n",
       "      <th>4</th>\n",
       "      <td>2.2</td>\n",
       "      <td>39891</td>\n",
       "    </tr>\n",
       "  </tbody>\n",
       "</table>\n",
       "</div>"
      ],
      "text/plain": [
       "   YearsofExperience  Salary\n",
       "0                1.1   39343\n",
       "1                1.3   46205\n",
       "2                1.5   37731\n",
       "3                2.0   43525\n",
       "4                2.2   39891"
      ]
     },
     "execution_count": 3,
     "metadata": {},
     "output_type": "execute_result"
    }
   ],
   "source": [
    "df.head()"
   ]
  },
  {
   "cell_type": "code",
   "execution_count": 4,
   "id": "171fddd2",
   "metadata": {},
   "outputs": [
    {
     "name": "stdout",
     "output_type": "stream",
     "text": [
      "<class 'pandas.core.frame.DataFrame'>\n",
      "RangeIndex: 30 entries, 0 to 29\n",
      "Data columns (total 2 columns):\n",
      " #   Column             Non-Null Count  Dtype  \n",
      "---  ------             --------------  -----  \n",
      " 0   YearsofExperience  30 non-null     float64\n",
      " 1   Salary             30 non-null     int64  \n",
      "dtypes: float64(1), int64(1)\n",
      "memory usage: 608.0 bytes\n"
     ]
    }
   ],
   "source": [
    "df.info()"
   ]
  },
  {
   "cell_type": "code",
   "execution_count": 5,
   "id": "553584ea",
   "metadata": {},
   "outputs": [
    {
     "data": {
      "text/plain": [
       "YearsofExperience    0\n",
       "Salary               0\n",
       "dtype: int64"
      ]
     },
     "execution_count": 5,
     "metadata": {},
     "output_type": "execute_result"
    }
   ],
   "source": [
    "df.isnull().sum()"
   ]
  },
  {
   "cell_type": "code",
   "execution_count": 6,
   "id": "2a0e58ac",
   "metadata": {},
   "outputs": [
    {
     "data": {
      "text/plain": [
       "<AxesSubplot:xlabel='YearsofExperience'>"
      ]
     },
     "execution_count": 6,
     "metadata": {},
     "output_type": "execute_result"
    },
    {
     "data": {
      "image/png": "[encoded data removed]",
      "text/plain": [
       "<Figure size 432x288 with 1 Axes>"
      ]
     },
     "metadata": {
      "needs_background": "light"
     },
     "output_type": "display_data"
    }
   ],
   "source": [
    "df.plot(x='YearsofExperience',y='Salary')"
   ]
  },
  {
   "cell_type": "code",
   "execution_count": 7,
   "id": "250e450f",
   "metadata": {},
   "outputs": [
    {
     "data": {
      "text/plain": [
       "<AxesSubplot:xlabel='YearsofExperience'>"
      ]
     },
     "execution_count": 7,
     "metadata": {},
     "output_type": "execute_result"
    },
    {
     "data": {
      "image/png": "[encoded data removed]",
      "text/plain": [
       "<Figure size 432x288 with 1 Axes>"
      ]
     },
     "metadata": {
      "needs_background": "light"
     },
     "output_type": "display_data"
    }
   ],
   "source": [
    "df.plot(kind=\"bar\",x='YearsofExperience',y='Salary')"
   ]
  },
  {
   "cell_type": "code",
   "execution_count": 8,
   "id": "8a07bfab",
   "metadata": {},
   "outputs": [
    {
     "data": {
      "text/plain": [
       "<AxesSubplot:xlabel='YearsofExperience', ylabel='Salary'>"
      ]
     },
     "execution_count": 8,
     "metadata": {},
     "output_type": "execute_result"
    },
    {
     "data": {
      "image/png": "[encoded data removed]",
      "text/plain": [
       "<Figure size 432x288 with 1 Axes>"
      ]
     },
     "metadata": {
      "needs_background": "light"
     },
     "output_type": "display_data"
    }
   ],
   "source": [
    "df.plot(kind=\"scatter\",x='YearsofExperience',y='Salary')"
   ]
  },
  {
   "cell_type": "code",
   "execution_count": 9,
   "id": "87ff606e",
   "metadata": {},
   "outputs": [
    {
     "data": {
      "text/plain": [
       "[<matplotlib.lines.Line2D at 0x223ad076940>]"
      ]
     },
     "execution_count": 9,
     "metadata": {},
     "output_type": "execute_result"
    },
    {
     "data": {
      "image/png": "[encoded data removed]",
      "text/plain": [
       "<Figure size 720x360 with 1 Axes>"
      ]
     },
     "metadata": {
      "needs_background": "light"
     },
     "output_type": "display_data"
    }
   ],
   "source": [
    "plt.figure(figsize=(10,5))\n",
    "plt.plot(df.YearsofExperience,df.Salary)"
   ]
  },
  {
   "cell_type": "code",
   "execution_count": 10,
   "id": "3d96968f",
   "metadata": {},
   "outputs": [
    {
     "data": {
      "text/plain": [
       "<matplotlib.collections.PathCollection at 0x223ad143880>"
      ]
     },
     "execution_count": 10,
     "metadata": {},
     "output_type": "execute_result"
    },
    {
     "data": {
      "image/png": "[encoded data removed]",
      "text/plain": [
       "<Figure size 720x360 with 1 Axes>"
      ]
     },
     "metadata": {
      "needs_background": "light"
     },
     "output_type": "display_data"
    }
   ],
   "source": [
    "plt.figure(figsize=(10,5))\n",
    "plt.scatter(df.YearsofExperience,df.Salary,color='red')"
   ]
  },
  {
   "cell_type": "markdown",
   "id": "3caeaa75",
   "metadata": {},
   "source": [
    "# From Scratch"
   ]
  },
  {
   "cell_type": "code",
   "execution_count": 11,
   "id": "2a496d35",
   "metadata": {},
   "outputs": [],
   "source": [
    "x=df.iloc[:,:-1].values\n",
    "y=df.iloc[:,-1].values"
   ]
  },
  {
   "cell_type": "code",
   "execution_count": 12,
   "id": "e9395c16",
   "metadata": {},
   "outputs": [
    {
     "data": {
      "text/plain": [
       "array([[ 1.1],\n",
       "       [ 1.3],\n",
       "       [ 1.5],\n",
       "       [ 2. ],\n",
       "       [ 2.2],\n",
       "       [ 2.9],\n",
       "       [ 3. ],\n",
       "       [ 3.2],\n",
       "       [ 3.2],\n",
       "       [ 3.7],\n",
       "       [ 3.9],\n",
       "       [ 4. ],\n",
       "       [ 4. ],\n",
       "       [ 4.1],\n",
       "       [ 4.5],\n",
       "       [ 4.9],\n",
       "       [ 5.1],\n",
       "       [ 5.3],\n",
       "       [ 5.9],\n",
       "       [ 6. ],\n",
       "       [ 6.8],\n",
       "       [ 7.1],\n",
       "       [ 7.9],\n",
       "       [ 8.2],\n",
       "       [ 8.7],\n",
       "       [ 9. ],\n",
       "       [ 9.5],\n",
       "       [ 9.6],\n",
       "       [10.3],\n",
       "       [10.5]])"
      ]
     },
     "execution_count": 12,
     "metadata": {},
     "output_type": "execute_result"
    }
   ],
   "source": [
    "x"
   ]
  },
  {
   "cell_type": "code",
   "execution_count": 13,
   "id": "29828b26",
   "metadata": {},
   "outputs": [
    {
     "data": {
      "text/plain": [
       "array([ 39343,  46205,  37731,  43525,  39891,  56642,  60150,  54445,\n",
       "        64445,  57189,  63218,  55794,  56957,  57081,  61111,  67938,\n",
       "        66029,  83088,  81363,  93940,  91738,  98273, 101302, 113812,\n",
       "       109431, 105582, 116969, 112635, 122391, 121872], dtype=int64)"
      ]
     },
     "execution_count": 13,
     "metadata": {},
     "output_type": "execute_result"
    }
   ],
   "source": [
    "y"
   ]
  },
  {
   "cell_type": "markdown",
   "id": "1f5fbeb4",
   "metadata": {},
   "source": [
    "## w0=y_mean-w1*x_mean\n",
    "## w1= sum(x-x_mean)*(y-y_mean)/sum(x-x_mean)^2"
   ]
  },
  {
   "cell_type": "code",
   "execution_count": 14,
   "id": "4b3ffc81",
   "metadata": {},
   "outputs": [
    {
     "name": "stdout",
     "output_type": "stream",
     "text": [
      "The Coefficients are [25792.20019867] [9449.96232146]\n"
     ]
    }
   ],
   "source": [
    "# Mean_X and Mean_Y\n",
    "mean_x=np.mean(x)\n",
    "mean_y=np.mean(y)\n",
    "\n",
    "# Total length of the Dataset\n",
    "n=len(x)\n",
    "\n",
    "# Using The formula caluculate the w0 and w1\n",
    "numer=0\n",
    "denom=0\n",
    "\n",
    "for i in range(n):\n",
    "    numer+=(x[i]-mean_x)*(y[i]-mean_y) \n",
    "    denom+=(x[i]-mean_x)**2\n",
    "    \n",
    "w1=numer/denom\n",
    "w0=mean_y-(w1*mean_x)\n",
    "print('The Coefficients are',w0,w1)"
   ]
  },
  {
   "cell_type": "code",
   "execution_count": 15,
   "id": "640fee72",
   "metadata": {},
   "outputs": [
    {
     "data": {
      "image/png": "[encoded data removed]",
      "text/plain": [
       "<Figure size 432x288 with 1 Axes>"
      ]
     },
     "metadata": {
      "needs_background": "light"
     },
     "output_type": "display_data"
    }
   ],
   "source": [
    "plt.scatter(x,y,color='m')\n",
    "\n",
    "# claculate the y_pred\n",
    "y_pred=w0+w1*x\n",
    "\n",
    "#plot the regressor line\n",
    "plt.plot(x,y_pred,color='g')\n",
    "\n",
    "#putting the lables\n",
    "plt.xlabel('Years of Experience in a company')\n",
    "plt.ylabel('Salary of the Employee')\n",
    "plt.title('Salary vs Years of Experience')\n",
    "\n",
    "#show the plot\n",
    "plt.show()"
   ]
  },
  {
   "cell_type": "code",
   "execution_count": 16,
   "id": "b88e2d49",
   "metadata": {},
   "outputs": [
    {
     "data": {
      "text/plain": [
       "array([[ 36187.15875227],\n",
       "       [ 38077.15121656],\n",
       "       [ 39967.14368085],\n",
       "       [ 44692.12484158],\n",
       "       [ 46582.11730587],\n",
       "       [ 53197.09093089],\n",
       "       [ 54142.08716303],\n",
       "       [ 56032.07962732],\n",
       "       [ 56032.07962732],\n",
       "       [ 60757.06078805],\n",
       "       [ 62647.05325234],\n",
       "       [ 63592.04948449],\n",
       "       [ 63592.04948449],\n",
       "       [ 64537.04571663],\n",
       "       [ 68317.03064522],\n",
       "       [ 72097.0155738 ],\n",
       "       [ 73987.00803809],\n",
       "       [ 75877.00050238],\n",
       "       [ 81546.97789525],\n",
       "       [ 82491.9741274 ],\n",
       "       [ 90051.94398456],\n",
       "       [ 92886.932681  ],\n",
       "       [100446.90253816],\n",
       "       [103281.8912346 ],\n",
       "       [108006.87239533],\n",
       "       [110841.86109176],\n",
       "       [115566.84225249],\n",
       "       [116511.83848464],\n",
       "       [123126.81210966],\n",
       "       [125016.80457395]])"
      ]
     },
     "execution_count": 16,
     "metadata": {},
     "output_type": "execute_result"
    }
   ],
   "source": [
    "y_pred"
   ]
  },
  {
   "cell_type": "code",
   "execution_count": 18,
   "id": "9149a77a",
   "metadata": {},
   "outputs": [
    {
     "data": {
      "text/plain": [
       "95.69566641435085"
      ]
     },
     "execution_count": 18,
     "metadata": {},
     "output_type": "execute_result"
    }
   ],
   "source": [
    "from sklearn.metrics import r2_score\n",
    "r2_score(y,y_pred)*100"
   ]
  },
  {
   "cell_type": "markdown",
   "id": "064ff81f",
   "metadata": {},
   "source": [
    "# From Using Libraries"
   ]
  },
  {
   "cell_type": "code",
   "execution_count": 19,
   "id": "c7a3c864",
   "metadata": {},
   "outputs": [],
   "source": [
    "from sklearn.linear_model import LinearRegression"
   ]
  },
  {
   "cell_type": "code",
   "execution_count": 20,
   "id": "04f2e5ef",
   "metadata": {},
   "outputs": [],
   "source": [
    "model=LinearRegression()"
   ]
  },
  {
   "cell_type": "code",
   "execution_count": 21,
   "id": "71dc16bb",
   "metadata": {},
   "outputs": [
    {
     "data": {
      "text/plain": [
       "LinearRegression()"
      ]
     },
     "execution_count": 21,
     "metadata": {},
     "output_type": "execute_result"
    }
   ],
   "source": [
    "model.fit(x,y)"
   ]
  },
  {
   "cell_type": "code",
   "execution_count": 22,
   "id": "f2aea714",
   "metadata": {},
   "outputs": [
    {
     "data": {
      "text/plain": [
       "array([ 39343,  46205,  37731,  43525,  39891,  56642,  60150,  54445,\n",
       "        64445,  57189,  63218,  55794,  56957,  57081,  61111,  67938,\n",
       "        66029,  83088,  81363,  93940,  91738,  98273, 101302, 113812,\n",
       "       109431, 105582, 116969, 112635, 122391, 121872], dtype=int64)"
      ]
     },
     "execution_count": 22,
     "metadata": {},
     "output_type": "execute_result"
    }
   ],
   "source": [
    "y_pred_lib=model.predict(x)\n",
    "y"
   ]
  },
  {
   "cell_type": "code",
   "execution_count": 23,
   "id": "ba038775",
   "metadata": {},
   "outputs": [
    {
     "data": {
      "text/plain": [
       "array([ 36187.15875227,  38077.15121656,  39967.14368085,  44692.12484158,\n",
       "        46582.11730587,  53197.09093089,  54142.08716303,  56032.07962732,\n",
       "        56032.07962732,  60757.06078805,  62647.05325234,  63592.04948449,\n",
       "        63592.04948449,  64537.04571663,  68317.03064522,  72097.0155738 ,\n",
       "        73987.00803809,  75877.00050238,  81546.97789525,  82491.9741274 ,\n",
       "        90051.94398456,  92886.932681  , 100446.90253816, 103281.8912346 ,\n",
       "       108006.87239533, 110841.86109176, 115566.84225249, 116511.83848464,\n",
       "       123126.81210966, 125016.80457395])"
      ]
     },
     "execution_count": 23,
     "metadata": {},
     "output_type": "execute_result"
    }
   ],
   "source": [
    "y_pred_lib"
   ]
  },
  {
   "cell_type": "code",
   "execution_count": 24,
   "id": "b1d297c1",
   "metadata": {},
   "outputs": [
    {
     "data": {
      "image/png": "[encoded data removed]",
      "text/plain": [
       "<Figure size 432x288 with 1 Axes>"
      ]
     },
     "metadata": {
      "needs_background": "light"
     },
     "output_type": "display_data"
    }
   ],
   "source": [
    "plt.scatter(x,y,color=\"b\")\n",
    "\n",
    "#plo the regression line\n",
    "plt.plot(x,y_pred_lib,color=\"r\")\n",
    "\n",
    "#putting the lables\n",
    "plt.xlabel(\"Years of experience in a company\")\n",
    "plt.ylabel(\"Salary of Employee\")\n",
    "plt.title(\"Salary vs Years of experience\")\n",
    "\n",
    "#shows the plot\n",
    "plt.show()"
   ]
  },
  {
   "cell_type": "code",
   "execution_count": 25,
   "id": "08be543c",
   "metadata": {},
   "outputs": [
    {
     "data": {
      "text/plain": [
       "95.69566641435085"
      ]
     },
     "execution_count": 25,
     "metadata": {},
     "output_type": "execute_result"
    }
   ],
   "source": [
    "r2_score(y,y_pred_lib)*100"
   ]
  },
  {
   "cell_type": "code",
   "execution_count": 27,
   "id": "f31a8654",
   "metadata": {},
   "outputs": [
    {
     "data": {
      "text/plain": [
       "array([139191.74805613])"
      ]
     },
     "execution_count": 27,
     "metadata": {},
     "output_type": "execute_result"
    }
   ],
   "source": [
    "x=[[12]]\n",
    "model.predict(x)"
   ]
  },
  {
   "cell_type": "code",
   "execution_count": 29,
   "id": "27c39bae",
   "metadata": {},
   "outputs": [
    {
     "data": {
      "text/plain": [
       "139191.74805619"
      ]
     },
     "execution_count": 29,
     "metadata": {},
     "output_type": "execute_result"
    }
   ],
   "source": [
    "w0+w1*x\n",
    "25792.20019867+ (9449.96232146*12)"
   ]
  },
  {
   "cell_type": "code",
   "execution_count": null,
   "id": "369231e1",
   "metadata": {},
   "outputs": [],
   "source": []
  }
 ],
 "metadata": {
  "kernelspec": {
   "display_name": "Python 3",
   "language": "python",
   "name": "python3"
  },
  "language_info": {
   "codemirror_mode": {
    "name": "ipython",
    "version": 3
   },
   "file_extension": ".py",
   "mimetype": "text/x-python",
   "name": "python",
   "nbconvert_exporter": "python",
   "pygments_lexer": "ipython3",
   "version": "3.8.8"
  }
 },
 "nbformat": 4,
 "nbformat_minor": 5
}
